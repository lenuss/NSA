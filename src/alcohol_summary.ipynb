{
 "cells": [
  {
   "cell_type": "code",
   "execution_count": 1,
   "metadata": {},
   "outputs": [],
   "source": [
    "# *********************************************************************************\n",
    "# \n",
    "# Project to course Neural networks in applications\n",
    "# \n",
    "# Author: Bistakova Lenka, Brnovik Diana\n",
    "# PEF MENDELU 2020\n",
    "# \n",
    "# Used dataset: Student Alcohol Consumption - Portuguese language course dataset\n",
    "# URL of dataset: https://data.world/data-society/student-alcohol-consumption\n",
    "# \n",
    "# *********************************************************************************"
   ]
  },
  {
   "cell_type": "code",
   "execution_count": 2,
   "metadata": {},
   "outputs": [],
   "source": [
    "import numpy as np\n",
    "import pylab as pl\n",
    "import pandas as pd\n",
    "import neurolab as nl\n",
    "import seaborn as sns\n",
    "import matplotlib.pyplot as plt\n",
    "\n",
    "from mpl_toolkits.mplot3d import Axes3D\n",
    "from sklearn.model_selection import train_test_split\n",
    "from sklearn import preprocessing\n",
    "from sklearn.cluster import KMeans\n",
    "from sklearn.metrics import silhouette_score\n",
    "from sklearn.linear_model import LinearRegression\n",
    "from sklearn.model_selection import learning_curve\n",
    "from sklearn.neural_network import MLPClassifier\n",
    "from sklearn.metrics import classification_report,confusion_matrix\n",
    "from scipy import stats"
   ]
  },
  {
   "cell_type": "code",
   "execution_count": 4,
   "metadata": {},
   "outputs": [
    {
     "data": {
      "image/png": "[encoded data removed]",
      "text/plain": [
       "<Figure size 432x288 with 1 Axes>"
      ]
     },
     "metadata": {
      "needs_background": "light"
     },
     "output_type": "display_data"
    }
   ],
   "source": [
    "# Summary of all split rates (info in documentation)\n",
    "results = [36.15, 36.15, 36.15, 36.15, 36.15]\n",
    "split_rates = ['0.0001', '0.0005', '0.001', '0.005', '0.01']\n",
    "xi = list(range(5))\n",
    "plt.plot(results, marker='o', linestyle='--', color='darkgreen', label='Mean value')\n",
    "plt.xticks(xi, split_rates)\n",
    "plt.ylabel('Accuracy [%]')\n",
    "plt.xlabel('Alpha')\n",
    "plt.title('Alpha summary')\n",
    "plt.grid(True)\n",
    "plt.legend()\n",
    "plt.show()"
   ]
  },
  {
   "cell_type": "code",
   "execution_count": null,
   "metadata": {},
   "outputs": [],
   "source": []
  }
 ],
 "metadata": {
  "kernelspec": {
   "display_name": "Python 2",
   "language": "python",
   "name": "python2"
  },
  "language_info": {
   "codemirror_mode": {
    "name": "ipython",
    "version": 2
   },
   "file_extension": ".py",
   "mimetype": "text/x-python",
   "name": "python",
   "nbconvert_exporter": "python",
   "pygments_lexer": "ipython2",
   "version": "2.7.16"
  }
 },
 "nbformat": 4,
 "nbformat_minor": 4
}
